{
 "cells": [
  {
   "cell_type": "markdown",
   "metadata": {},
   "source": [
    "Visualise context block and target in I-JEPA"
   ]
  },
  {
   "cell_type": "code",
   "execution_count": 1,
   "metadata": {},
   "outputs": [],
   "source": [
    "from model import IJEPAConfig\n",
    "from utils import IJEPA_Dataloader\n",
    "import matplotlib.pyplot as plt\n",
    "from mpl_toolkits.axes_grid1 import ImageGrid\n",
    "import os\n",
    "import numpy as np\n",
    "config = IJEPAConfig(n_targets=4)\n",
    "loader = IJEPA_Dataloader(os.path.join('data','tiny_imagenet'),config, batch_size=16, device='cpu')\n",
    "mean = np.array([0.485, 0.456, 0.406]).reshape(3, 1, 1)\n",
    "std = np.array([0.229, 0.224, 0.225]).reshape(3, 1, 1)"
   ]
  },
  {
   "cell_type": "code",
   "execution_count": null,
   "metadata": {},
   "outputs": [],
   "source": [
    "img, target_idx, context_idx = loader.get_batch()\n",
    "fig = plt.figure(figsize=(2, 2), facecolor='white')\n",
    "grid = ImageGrid(fig, [0.0, 0.0, 1.0, 1.0], nrows_ncols=(8, 8), axes_pad=0)\n",
    "print(\"Original Image\")\n",
    "for i, ax in enumerate(grid):\n",
    "    patch = ((img[0][i] * std + mean).numpy().astype(np.float32) * 255).transpose(1, 2, 0)\n",
    "    ax.imshow(patch.astype(np.uint8))\n",
    "    ax.axis('off')\n",
    "plt.subplots_adjust(left=0, right=1, top=1, bottom=0, wspace=0, hspace=0)\n",
    "plt.show()\n",
    "fig = plt.figure(figsize=(2, 2), facecolor='white')\n",
    "grid = ImageGrid(fig, [0.0, 0.0, 1.0, 1.0], nrows_ncols=(8, 8), axes_pad=0)\n",
    "print(\"Context Block\")\n",
    "print(f\"Context patches index {context_idx}\")\n",
    "for i, ax in enumerate(grid):\n",
    "    if i not in context_idx:\n",
    "        patch = np.ones(img[0][i].numpy().transpose(1, 2, 0).shape, dtype=np.uint8) * 128\n",
    "    else:\n",
    "        patch = ((img[0][i] * std + mean).numpy().astype(np.float32) * 255).transpose(1, 2, 0)\n",
    "    ax.imshow(patch.astype(np.uint8))\n",
    "    ax.axis('off')\n",
    "plt.subplots_adjust(left=0, right=1, top=1, bottom=0, wspace=0, hspace=0)\n",
    "plt.show()\n",
    "for t in range(target_idx.shape[0]):\n",
    "    fig = plt.figure(figsize=(2, 2), facecolor='white')\n",
    "    grid = ImageGrid(fig, [0.0, 0.0, 1.0, 1.0], nrows_ncols=(8, 8), axes_pad=0)\n",
    "    print(f\"Target {t}\")\n",
    "    print(f\"Target patches index {target_idx[t]}\")\n",
    "    for i, ax in enumerate(grid):\n",
    "        if i not in target_idx[t]:\n",
    "            patch = np.ones(img[0][i].numpy().transpose(1, 2, 0).shape, dtype=np.uint8) * 128\n",
    "        else:\n",
    "            patch = ((img[0][i] * std + mean).numpy().astype(np.float32) * 255).transpose(1, 2, 0)\n",
    "        ax.imshow(patch.astype(np.uint8))\n",
    "        ax.axis('off')\n",
    "    plt.subplots_adjust(left=0, right=1, top=1, bottom=0, wspace=0, hspace=0)\n",
    "    plt.show()"
   ]
  }
 ],
 "metadata": {
  "kernelspec": {
   "display_name": "pytorchnn",
   "language": "python",
   "name": "python3"
  },
  "language_info": {
   "codemirror_mode": {
    "name": "ipython",
    "version": 3
   },
   "file_extension": ".py",
   "mimetype": "text/x-python",
   "name": "python",
   "nbconvert_exporter": "python",
   "pygments_lexer": "ipython3",
   "version": "3.12.5"
  }
 },
 "nbformat": 4,
 "nbformat_minor": 2
}
